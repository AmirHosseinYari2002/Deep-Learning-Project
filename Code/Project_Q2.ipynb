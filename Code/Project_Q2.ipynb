{
  "cells": [
    {
      "cell_type": "code",
      "execution_count": 1,
      "metadata": {
        "colab": {
          "base_uri": "https://localhost:8080/"
        },
        "id": "3P8cRBAXK1fW",
        "outputId": "e0bc0a0e-9d61-4ce3-cb00-fe22f8fa39dc"
      },
      "outputs": [
        {
          "output_type": "stream",
          "name": "stdout",
          "text": [
            "\u001b[2K     \u001b[90m━━━━━━━━━━━━━━━━━━━━━━━━━━━━━━━━━━━━━━━━\u001b[0m \u001b[32m252.8/252.8 kB\u001b[0m \u001b[31m2.4 MB/s\u001b[0m eta \u001b[36m0:00:00\u001b[0m\n",
            "\u001b[2K     \u001b[90m━━━━━━━━━━━━━━━━━━━━━━━━━━━━━━━━━━━━━━━━\u001b[0m \u001b[32m507.1/507.1 kB\u001b[0m \u001b[31m11.0 MB/s\u001b[0m eta \u001b[36m0:00:00\u001b[0m\n",
            "\u001b[2K     \u001b[90m━━━━━━━━━━━━━━━━━━━━━━━━━━━━━━━━━━━━━━━━\u001b[0m \u001b[32m115.3/115.3 kB\u001b[0m \u001b[31m15.7 MB/s\u001b[0m eta \u001b[36m0:00:00\u001b[0m\n",
            "\u001b[2K     \u001b[90m━━━━━━━━━━━━━━━━━━━━━━━━━━━━━━━━━━━━━━━━\u001b[0m \u001b[32m134.8/134.8 kB\u001b[0m \u001b[31m19.4 MB/s\u001b[0m eta \u001b[36m0:00:00\u001b[0m\n",
            "\u001b[2K     \u001b[90m━━━━━━━━━━━━━━━━━━━━━━━━━━━━━━━━━━━━━━━━\u001b[0m \u001b[32m134.8/134.8 kB\u001b[0m \u001b[31m16.4 MB/s\u001b[0m eta \u001b[36m0:00:00\u001b[0m\n",
            "\u001b[?25hRequirement already satisfied: adapters in /usr/local/lib/python3.10/dist-packages (0.1.1)\n",
            "Requirement already satisfied: transformers~=4.35.2 in /usr/local/lib/python3.10/dist-packages (from adapters) (4.35.2)\n",
            "Requirement already satisfied: filelock in /usr/local/lib/python3.10/dist-packages (from transformers~=4.35.2->adapters) (3.13.1)\n",
            "Requirement already satisfied: huggingface-hub<1.0,>=0.16.4 in /usr/local/lib/python3.10/dist-packages (from transformers~=4.35.2->adapters) (0.20.3)\n",
            "Requirement already satisfied: numpy>=1.17 in /usr/local/lib/python3.10/dist-packages (from transformers~=4.35.2->adapters) (1.23.5)\n",
            "Requirement already satisfied: packaging>=20.0 in /usr/local/lib/python3.10/dist-packages (from transformers~=4.35.2->adapters) (23.2)\n",
            "Requirement already satisfied: pyyaml>=5.1 in /usr/local/lib/python3.10/dist-packages (from transformers~=4.35.2->adapters) (6.0.1)\n",
            "Requirement already satisfied: regex!=2019.12.17 in /usr/local/lib/python3.10/dist-packages (from transformers~=4.35.2->adapters) (2023.12.25)\n",
            "Requirement already satisfied: requests in /usr/local/lib/python3.10/dist-packages (from transformers~=4.35.2->adapters) (2.31.0)\n",
            "Requirement already satisfied: tokenizers<0.19,>=0.14 in /usr/local/lib/python3.10/dist-packages (from transformers~=4.35.2->adapters) (0.15.1)\n",
            "Requirement already satisfied: safetensors>=0.3.1 in /usr/local/lib/python3.10/dist-packages (from transformers~=4.35.2->adapters) (0.4.2)\n",
            "Requirement already satisfied: tqdm>=4.27 in /usr/local/lib/python3.10/dist-packages (from transformers~=4.35.2->adapters) (4.66.1)\n",
            "Requirement already satisfied: fsspec>=2023.5.0 in /usr/local/lib/python3.10/dist-packages (from huggingface-hub<1.0,>=0.16.4->transformers~=4.35.2->adapters) (2023.6.0)\n",
            "Requirement already satisfied: typing-extensions>=3.7.4.3 in /usr/local/lib/python3.10/dist-packages (from huggingface-hub<1.0,>=0.16.4->transformers~=4.35.2->adapters) (4.5.0)\n",
            "Requirement already satisfied: charset-normalizer<4,>=2 in /usr/local/lib/python3.10/dist-packages (from requests->transformers~=4.35.2->adapters) (3.3.2)\n",
            "Requirement already satisfied: idna<4,>=2.5 in /usr/local/lib/python3.10/dist-packages (from requests->transformers~=4.35.2->adapters) (3.6)\n",
            "Requirement already satisfied: urllib3<3,>=1.21.1 in /usr/local/lib/python3.10/dist-packages (from requests->transformers~=4.35.2->adapters) (2.0.7)\n",
            "Requirement already satisfied: certifi>=2017.4.17 in /usr/local/lib/python3.10/dist-packages (from requests->transformers~=4.35.2->adapters) (2023.11.17)\n"
          ]
        }
      ],
      "source": [
        "!pip install -qq adapters datasets\n",
        "!pip install adapters"
      ]
    },
    {
      "cell_type": "code",
      "source": [
        "from google.colab import drive\n",
        "drive.mount('/content/drive/')\n",
        "\n",
        "\n",
        "trainx=[]\n",
        "dev=[]\n",
        "import json\n",
        "with open('/content/drive/MyDrive/Deep/train.jsonl', 'r') as f:\n",
        "            for line in f:\n",
        "                item = json.loads(line)\n",
        "                trainx.append((item['text'], item['label']))\n",
        "\n",
        "with open('/content/drive/MyDrive/Deep/dev.jsonl', 'r') as f:\n",
        "            for line in f:\n",
        "                item = json.loads(line)\n",
        "                dev.append((item['text'], item['label']))"
      ],
      "metadata": {
        "colab": {
          "base_uri": "https://localhost:8080/"
        },
        "id": "-9-a9zT7vUHU",
        "outputId": "7f0e6cca-4f5f-4842-d7c4-2a5c56857e46"
      },
      "execution_count": 2,
      "outputs": [
        {
          "output_type": "stream",
          "name": "stdout",
          "text": [
            "Mounted at /content/drive/\n"
          ]
        }
      ]
    },
    {
      "cell_type": "code",
      "source": [
        "\n",
        "train1=[]\n",
        "train2=[]\n",
        "train3=[]\n",
        "train4=[]\n",
        "train5=[]\n",
        "train6=[]\n",
        "\n",
        "with open('/content/drive/MyDrive/Deep/train.jsonl', 'r') as f:\n",
        "            for line in f:\n",
        "                item = json.loads(line)\n",
        "                if item['label']==0:\n",
        "                  train1.append((item['text'], item['label']))\n",
        "                if item['label']==1:\n",
        "                  train2.append((item['text'], item['label']))\n",
        "                if item['label']==2:\n",
        "                  train3.append((item['text'], item['label']))\n",
        "                if item['label']==3:\n",
        "                  train4.append((item['text'], item['label']))\n",
        "                if item['label']==4:\n",
        "                  train5.append((item['text'], item['label']))\n",
        "                if item['label']==5:\n",
        "                  train6.append((item['text'], item['label']))"
      ],
      "metadata": {
        "id": "4jivpqA_u_u9"
      },
      "execution_count": 3,
      "outputs": []
    },
    {
      "cell_type": "code",
      "source": [
        "import json\n",
        "from torch.utils.data import Dataset\n",
        "import torch\n",
        "from torch.utils.data import Dataset, DataLoader\n",
        "from transformers import BertModel\n",
        "import json\n",
        "import random\n",
        "class TextClassificationDataset(Dataset):\n",
        "    def __init__(self, data, tokenizer, max_len):\n",
        "        self.data = data\n",
        "        self.tokenizer = tokenizer\n",
        "        self.max_len = max_len\n",
        "\n",
        "    def __len__(self):\n",
        "        return len(self.data)\n",
        "\n",
        "    def __getitem__(self, idx):\n",
        "        text, label = self.data[idx]\n",
        "        encoding = self.tokenizer.encode_plus(\n",
        "            text,\n",
        "            add_special_tokens=True,\n",
        "            max_length=self.max_len,\n",
        "            return_token_type_ids=False,\n",
        "            padding='max_length',\n",
        "            truncation=True,\n",
        "            return_attention_mask=True,\n",
        "            return_tensors='pt',\n",
        "        )\n",
        "        return {\n",
        "            'input_ids': encoding['input_ids'].flatten(),\n",
        "            'attention_mask': encoding['attention_mask'].flatten(),\n",
        "            'labels': torch.tensor(label, dtype=torch.long)\n",
        "        }\n",
        "\n",
        "\n",
        "\n",
        "from transformers import BertTokenizer\n",
        "tokenizer = BertTokenizer.from_pretrained(\"bert-base-uncased\")"
      ],
      "metadata": {
        "colab": {
          "base_uri": "https://localhost:8080/",
          "height": 269,
          "referenced_widgets": [
            "2e7bd1a923254d3c8696a7480a0a4cd9",
            "45fca35e74124fa08ce0470723eaae6f",
            "ffa4a417a80b4abd866612236373230c",
            "80e64d141ced406daf09103ab1caf7c9",
            "70faee679d3b4cf497cbbf8cbee2ea4c",
            "76b625c43cc54385a16138a490db9f59",
            "1370383401ba47ffa08c0c04225048f1",
            "bc43387fae624aa9a35a71f424b674a4",
            "5b97f76ea8b64934a3f0a25a9865c955",
            "942b0760e8854e3491af22547499fdd2",
            "0f678e21ce994e5e99de0f950514bdb4",
            "ac3157eb8fa44211a375a6dcccd40eaa",
            "0c464b34adc442d4ae49bb4a38d6693b",
            "b732c8e1219b4485aedfcf4c3e6416e0",
            "4aa7e66664c548978fb6ef2b2f58e9ef",
            "731452cac725490e891a4b1995ff5d86",
            "1babf59c08c647b69ba754399e18d911",
            "b870ba95d64a4e30abf6aa1f6699c17d",
            "86957c8e18aa44bfb21e205f6fea4693",
            "e210b2a3e5f142edb273a7f552164673",
            "e1e2768364f545a0830e4fbc1dda724d",
            "87d7e3ca6cf84efc9df798abd65afa2a",
            "a1ac5df0c49d4576afc30f71e164e337",
            "b68e086f95bc4b77bc9695c204e605ba",
            "c867dddfdd0249c4a7a2c31172d8aa80",
            "776a6790fc2d4e0688377863d3a8f5c1",
            "97f59ee2d8504d8d8704f97e3fde83e1",
            "2d77c7dcdd0f4e2cb94327abe0aafe69",
            "a7f71c5f58b644dea98dbc421acda571",
            "9f0ac72b7d47411d92a545f212293949",
            "bcc66ba00f8a4039a69d51967fa3a794",
            "e3ca094184a14b6c8edf4f8ff357b619",
            "c066516ea463486fa2f5a98f1dcbbfde",
            "58901b53058e4854838146e9e6ac300d",
            "314ff2bc60d942ec81ee5bb89101c6d2",
            "3c6c35c11ade4420ac010d85c07d0f5d",
            "56d09047ec40415db8f664e9abf32e0c",
            "f8e6fb57a44e4b25bedfa5597599f665",
            "c8f9a532dbb2484f9d85f15e06696617",
            "839dd4777a204f7eac6d32752cebe984",
            "eb08ffbb31f34ed589a57e82685ec22a",
            "713bd431607f4e4ab313763b7e76386d",
            "2064cf64a75445be8241495b6a97025a",
            "01544754beb541a3987dbdb942abfad6"
          ]
        },
        "id": "q-vTnI8Ty0Dy",
        "outputId": "53657a4f-384c-481b-d0e1-9846ed196a92"
      },
      "execution_count": 4,
      "outputs": [
        {
          "output_type": "stream",
          "name": "stderr",
          "text": [
            "/usr/local/lib/python3.10/dist-packages/huggingface_hub/utils/_token.py:88: UserWarning: \n",
            "The secret `HF_TOKEN` does not exist in your Colab secrets.\n",
            "To authenticate with the Hugging Face Hub, create a token in your settings tab (https://huggingface.co/settings/tokens), set it as secret in your Google Colab and restart your session.\n",
            "You will be able to reuse this secret in all of your notebooks.\n",
            "Please note that authentication is recommended but still optional to access public models or datasets.\n",
            "  warnings.warn(\n"
          ]
        },
        {
          "output_type": "display_data",
          "data": {
            "text/plain": [
              "tokenizer_config.json:   0%|          | 0.00/28.0 [00:00<?, ?B/s]"
            ],
            "application/vnd.jupyter.widget-view+json": {
              "version_major": 2,
              "version_minor": 0,
              "model_id": "2e7bd1a923254d3c8696a7480a0a4cd9"
            }
          },
          "metadata": {}
        },
        {
          "output_type": "display_data",
          "data": {
            "text/plain": [
              "vocab.txt:   0%|          | 0.00/232k [00:00<?, ?B/s]"
            ],
            "application/vnd.jupyter.widget-view+json": {
              "version_major": 2,
              "version_minor": 0,
              "model_id": "ac3157eb8fa44211a375a6dcccd40eaa"
            }
          },
          "metadata": {}
        },
        {
          "output_type": "display_data",
          "data": {
            "text/plain": [
              "tokenizer.json:   0%|          | 0.00/466k [00:00<?, ?B/s]"
            ],
            "application/vnd.jupyter.widget-view+json": {
              "version_major": 2,
              "version_minor": 0,
              "model_id": "a1ac5df0c49d4576afc30f71e164e337"
            }
          },
          "metadata": {}
        },
        {
          "output_type": "display_data",
          "data": {
            "text/plain": [
              "config.json:   0%|          | 0.00/570 [00:00<?, ?B/s]"
            ],
            "application/vnd.jupyter.widget-view+json": {
              "version_major": 2,
              "version_minor": 0,
              "model_id": "58901b53058e4854838146e9e6ac300d"
            }
          },
          "metadata": {}
        }
      ]
    },
    {
      "cell_type": "code",
      "source": [
        "# add adapters to BERT for classification task\n",
        "from adapters import AutoAdapterModel\n",
        "# load pre-trained BERT model\n",
        "bert_model = AutoAdapterModel.from_pretrained(\"bert-base-uncased\")\n",
        "# By default, this model doesn’t have any heads yet. We add a new one in the next step\n",
        "bert_model.add_classification_head(\"my\", num_labels=6)\n",
        "# add a new adapter with proper config\n",
        "bert_model.add_adapter(\"my\", config=\"double_seq_bn\")\n",
        "bert_model.set_active_adapters(\"my\")\n",
        "# Enable adapter training\n",
        "bert_model.train_adapter(\"my\")\n",
        "bert_model.set_active_adapters(\"my\")"
      ],
      "metadata": {
        "colab": {
          "base_uri": "https://localhost:8080/"
        },
        "id": "qJw2GO-BYdfX",
        "outputId": "6aeb2e86-d269-459f-dfd5-eca7150c1d54"
      },
      "execution_count": 22,
      "outputs": [
        {
          "output_type": "stream",
          "name": "stderr",
          "text": [
            "Some weights of BertAdapterModel were not initialized from the model checkpoint at bert-base-uncased and are newly initialized: ['heads.default.3.bias']\n",
            "You should probably TRAIN this model on a down-stream task to be able to use it for predictions and inference.\n"
          ]
        }
      ]
    },
    {
      "cell_type": "code",
      "source": [
        "import torch\n",
        "from torch import nn, optim\n",
        "from torch.utils.data import DataLoader\n",
        "from transformers import BertModel, AdamW\n",
        "device = torch.device('cuda' if torch.cuda.is_available() else 'cpu')"
      ],
      "metadata": {
        "id": "R6cU90_UZ2zK"
      },
      "execution_count": 6,
      "outputs": []
    },
    {
      "cell_type": "code",
      "source": [
        "bert_model=bert_model.to(device)"
      ],
      "metadata": {
        "id": "fw-9p2aMZ_UW"
      },
      "execution_count": 23,
      "outputs": []
    },
    {
      "cell_type": "markdown",
      "source": [
        "#1 Percent"
      ],
      "metadata": {
        "id": "FhbpkBEEQDcJ"
      }
    },
    {
      "cell_type": "code",
      "source": [
        "import time\n",
        "from sklearn.metrics import f1_score\n",
        "device = torch.device('cuda' if torch.cuda.is_available() else 'cpu')\n",
        "optimizer = AdamW(bert_model.parameters(), lr=1e-4)\n",
        "scheduler = torch.optim.lr_scheduler.StepLR(optimizer, step_size=10, gamma=0.1)\n",
        "percent=1\n",
        "train = random.sample(train1, round(len(train1) * percent / 100)) + random.sample(train2, round(len(train2) * percent / 100)) +random.sample(train3, round(len(train3) * percent / 100)) +random.sample(train4, round(len(train4) * percent / 100)) +random.sample(train5, round(len(train5) * percent / 100)) +random.sample(train6, round(len(train6) * percent / 100))\n",
        "dataset1 = TextClassificationDataset(train, tokenizer, max_len=128)\n",
        "dataset = TextClassificationDataset(dev, tokenizer, max_len=128)\n",
        "trainloader = DataLoader(dataset1, batch_size=16, shuffle=True)\n",
        "devloader = DataLoader(dataset, batch_size=16, shuffle=False)\n",
        "# Training loop\n",
        "start_time = time.time()\n",
        "bert_model.train()\n",
        "for epoch in range(10):\n",
        "    correct_predictions = 0\n",
        "    total_predictions = 0\n",
        "    for batch in trainloader:\n",
        "        optimizer.zero_grad()\n",
        "        input_ids, attention_mask, labels =batch['input_ids'].to(device), batch['attention_mask'].to(device) ,batch['labels'].to(device)\n",
        "        outputs = bert_model(input_ids, attention_mask)\n",
        "        _, preds = torch.max(outputs.logits, dim=1)\n",
        "        loss = nn.CrossEntropyLoss()(outputs.logits, labels)\n",
        "        loss.backward()\n",
        "        optimizer.step()\n",
        "\n",
        "        correct_predictions += torch.sum(preds == labels)\n",
        "        total_predictions += labels.shape[0]\n",
        "\n",
        "    accuracy = correct_predictions.double() / total_predictions\n",
        "    print(f'Training accuracy: {accuracy:.4f}')\n",
        "\n",
        "end_time = time.time()\n",
        "\n",
        "execution_time = end_time - start_time\n",
        "\n",
        "print(f\"The code executed in {execution_time} seconds.\")\n",
        "\n",
        "\n",
        "\n",
        "bert_model.eval()\n",
        "with torch.no_grad():\n",
        "    predictions = []\n",
        "    true_labels = []\n",
        "\n",
        "    correct_predictions = 0\n",
        "    total_predictions = 0\n",
        "    for batch in devloader:\n",
        "        input_ids, attention_mask, labels =batch['input_ids'].to(device), batch['attention_mask'].to(device) ,batch['labels'].to(device)\n",
        "        outputs = bert_model(input_ids, attention_mask)\n",
        "        _, preds = torch.max(outputs.logits, dim=1)\n",
        "\n",
        "        predictions.extend(preds.tolist())\n",
        "        true_labels.extend(labels.tolist())\n",
        "\n",
        "        correct_predictions += torch.sum(preds == labels)\n",
        "        total_predictions += labels.shape[0]\n",
        "\n",
        "    accuracy = correct_predictions.double() / total_predictions\n",
        "    print(f'Validation accuracy: {accuracy:.4f}')\n",
        "\n",
        "    f1 = f1_score(true_labels, predictions, average='weighted')\n",
        "    print(f'Validation F1 score: {f1:.4f}')\n",
        "\n",
        "\n",
        "\n"
      ],
      "metadata": {
        "colab": {
          "base_uri": "https://localhost:8080/"
        },
        "id": "R_Vl3prx1PBs",
        "outputId": "8c2da4b7-f716-4725-b420-dccd65932ea5"
      },
      "execution_count": 25,
      "outputs": [
        {
          "output_type": "stream",
          "name": "stderr",
          "text": [
            "/usr/local/lib/python3.10/dist-packages/transformers/optimization.py:411: FutureWarning: This implementation of AdamW is deprecated and will be removed in a future version. Use the PyTorch implementation torch.optim.AdamW instead, or set `no_deprecation_warning=True` to disable this warning\n",
            "  warnings.warn(\n"
          ]
        },
        {
          "output_type": "stream",
          "name": "stdout",
          "text": [
            "Training accuracy: 0.5845\n",
            "Training accuracy: 0.6535\n",
            "Training accuracy: 0.7000\n",
            "Training accuracy: 0.7465\n",
            "Training accuracy: 0.7761\n",
            "Training accuracy: 0.8155\n",
            "Training accuracy: 0.8338\n",
            "Training accuracy: 0.8592\n",
            "Training accuracy: 0.8690\n",
            "Training accuracy: 0.8915\n",
            "The code executed in 145.1121301651001 seconds.\n",
            "Validation accuracy: 0.4257\n",
            "Validation F1 score: 0.4408\n"
          ]
        }
      ]
    },
    {
      "cell_type": "markdown",
      "source": [
        "#5 Percent"
      ],
      "metadata": {
        "id": "CG_SerOQQGNu"
      }
    },
    {
      "cell_type": "code",
      "source": [
        "import time\n",
        "from sklearn.metrics import f1_score\n",
        "device = torch.device('cuda' if torch.cuda.is_available() else 'cpu')\n",
        "optimizer = AdamW(bert_model.parameters(), lr=1e-4)\n",
        "scheduler = torch.optim.lr_scheduler.StepLR(optimizer, step_size=10, gamma=0.1)\n",
        "percent=5\n",
        "train = random.sample(train1, round(len(train1) * percent / 100)) + random.sample(train2, round(len(train2) * percent / 100)) +random.sample(train3, round(len(train3) * percent / 100)) +random.sample(train4, round(len(train4) * percent / 100)) +random.sample(train5, round(len(train5) * percent / 100)) +random.sample(train6, round(len(train6) * percent / 100))\n",
        "dataset1 = TextClassificationDataset(train, tokenizer, max_len=128)\n",
        "dataset = TextClassificationDataset(dev, tokenizer, max_len=128)\n",
        "trainloader = DataLoader(dataset1, batch_size=16, shuffle=True)\n",
        "devloader = DataLoader(dataset, batch_size=16, shuffle=False)\n",
        "# Training loop\n",
        "start_time = time.time()\n",
        "bert_model.train()\n",
        "for epoch in range(7):\n",
        "    correct_predictions = 0\n",
        "    total_predictions = 0\n",
        "    for batch in trainloader:\n",
        "        optimizer.zero_grad()\n",
        "        input_ids, attention_mask, labels =batch['input_ids'].to(device), batch['attention_mask'].to(device) ,batch['labels'].to(device)\n",
        "        outputs = bert_model(input_ids, attention_mask)\n",
        "        _, preds = torch.max(outputs.logits, dim=1)\n",
        "        loss = nn.CrossEntropyLoss()(outputs.logits, labels)\n",
        "        loss.backward()\n",
        "        optimizer.step()\n",
        "\n",
        "        correct_predictions += torch.sum(preds == labels)\n",
        "        total_predictions += labels.shape[0]\n",
        "\n",
        "    accuracy = correct_predictions.double() / total_predictions\n",
        "    print(f'Training accuracy: {accuracy:.4f}')\n",
        "\n",
        "end_time = time.time()\n",
        "\n",
        "execution_time = end_time - start_time\n",
        "\n",
        "print(f\"The code executed in {execution_time} seconds.\")\n",
        "\n",
        "\n",
        "\n",
        "bert_model.eval()\n",
        "with torch.no_grad():\n",
        "    predictions = []\n",
        "    true_labels = []\n",
        "\n",
        "    correct_predictions = 0\n",
        "    total_predictions = 0\n",
        "    for batch in devloader:\n",
        "        input_ids, attention_mask, labels =batch['input_ids'].to(device), batch['attention_mask'].to(device) ,batch['labels'].to(device)\n",
        "        outputs = bert_model(input_ids, attention_mask)\n",
        "        _, preds = torch.max(outputs.logits, dim=1)\n",
        "\n",
        "        predictions.extend(preds.tolist())\n",
        "        true_labels.extend(labels.tolist())\n",
        "\n",
        "        correct_predictions += torch.sum(preds == labels)\n",
        "        total_predictions += labels.shape[0]\n",
        "\n",
        "    accuracy = correct_predictions.double() / total_predictions\n",
        "    print(f'Validation accuracy: {accuracy:.4f}')\n",
        "\n",
        "    f1 = f1_score(true_labels, predictions, average='weighted')\n",
        "    print(f'Validation F1 score: {f1:.4f}')\n",
        "\n",
        "\n",
        "\n"
      ],
      "metadata": {
        "colab": {
          "base_uri": "https://localhost:8080/"
        },
        "id": "4Q6-0SLkExHV",
        "outputId": "b7e90b56-22a1-4fcb-f218-cad17a88e9e8"
      },
      "execution_count": 26,
      "outputs": [
        {
          "output_type": "stream",
          "name": "stderr",
          "text": [
            "/usr/local/lib/python3.10/dist-packages/transformers/optimization.py:411: FutureWarning: This implementation of AdamW is deprecated and will be removed in a future version. Use the PyTorch implementation torch.optim.AdamW instead, or set `no_deprecation_warning=True` to disable this warning\n",
            "  warnings.warn(\n"
          ]
        },
        {
          "output_type": "stream",
          "name": "stdout",
          "text": [
            "Training accuracy: 0.6577\n",
            "Training accuracy: 0.7055\n",
            "Training accuracy: 0.7489\n",
            "Training accuracy: 0.7725\n",
            "Training accuracy: 0.7956\n",
            "Training accuracy: 0.8074\n",
            "Training accuracy: 0.8353\n",
            "The code executed in 476.6109392642975 seconds.\n",
            "Validation accuracy: 0.4423\n",
            "Validation F1 score: 0.4348\n"
          ]
        }
      ]
    },
    {
      "cell_type": "markdown",
      "source": [
        "#10 Percent"
      ],
      "metadata": {
        "id": "5Tou89ZSQOGC"
      }
    },
    {
      "cell_type": "code",
      "source": [
        "import time\n",
        "from sklearn.metrics import f1_score\n",
        "device = torch.device('cuda' if torch.cuda.is_available() else 'cpu')\n",
        "optimizer = AdamW(bert_model.parameters(), lr=1e-4)\n",
        "scheduler = torch.optim.lr_scheduler.StepLR(optimizer, step_size=10, gamma=0.1)\n",
        "percent=10\n",
        "train = random.sample(train1, round(len(train1) * percent / 100)) + random.sample(train2, round(len(train2) * percent / 100)) +random.sample(train3, round(len(train3) * percent / 100)) +random.sample(train4, round(len(train4) * percent / 100)) +random.sample(train5, round(len(train5) * percent / 100)) +random.sample(train6, round(len(train6) * percent / 100))\n",
        "dataset1 = TextClassificationDataset(train, tokenizer, max_len=128)\n",
        "dataset = TextClassificationDataset(dev, tokenizer, max_len=128)\n",
        "trainloader = DataLoader(dataset1, batch_size=16, shuffle=True)\n",
        "devloader = DataLoader(dataset, batch_size=16, shuffle=False)\n",
        "# Training loop\n",
        "start_time = time.time()\n",
        "bert_model.train()\n",
        "for epoch in range(5):\n",
        "    correct_predictions = 0\n",
        "    total_predictions = 0\n",
        "    for batch in trainloader:\n",
        "        optimizer.zero_grad()\n",
        "        input_ids, attention_mask, labels =batch['input_ids'].to(device), batch['attention_mask'].to(device) ,batch['labels'].to(device)\n",
        "        outputs = bert_model(input_ids, attention_mask)\n",
        "        _, preds = torch.max(outputs.logits, dim=1)\n",
        "        loss = nn.CrossEntropyLoss()(outputs.logits, labels)\n",
        "        loss.backward()\n",
        "        optimizer.step()\n",
        "\n",
        "        correct_predictions += torch.sum(preds == labels)\n",
        "        total_predictions += labels.shape[0]\n",
        "\n",
        "    accuracy = correct_predictions.double() / total_predictions\n",
        "    print(f'Training accuracy: {accuracy:.4f}')\n",
        "\n",
        "end_time = time.time()\n",
        "\n",
        "execution_time = end_time - start_time\n",
        "\n",
        "print(f\"The code executed in {execution_time} seconds.\")\n",
        "\n",
        "\n",
        "\n",
        "bert_model.eval()\n",
        "with torch.no_grad():\n",
        "    predictions = []\n",
        "    true_labels = []\n",
        "\n",
        "    correct_predictions = 0\n",
        "    total_predictions = 0\n",
        "    for batch in devloader:\n",
        "        input_ids, attention_mask, labels =batch['input_ids'].to(device), batch['attention_mask'].to(device) ,batch['labels'].to(device)\n",
        "        outputs = bert_model(input_ids, attention_mask)\n",
        "        _, preds = torch.max(outputs.logits, dim=1)\n",
        "\n",
        "        predictions.extend(preds.tolist())\n",
        "        true_labels.extend(labels.tolist())\n",
        "\n",
        "        correct_predictions += torch.sum(preds == labels)\n",
        "        total_predictions += labels.shape[0]\n",
        "\n",
        "    accuracy = correct_predictions.double() / total_predictions\n",
        "    print(f'Validation accuracy: {accuracy:.4f}')\n",
        "\n",
        "    f1 = f1_score(true_labels, predictions, average='weighted')\n",
        "    print(f'Validation F1 score: {f1:.4f}')\n",
        "\n",
        "\n",
        "\n"
      ],
      "metadata": {
        "colab": {
          "base_uri": "https://localhost:8080/"
        },
        "id": "8J9Vy0VYE3Qo",
        "outputId": "380129ae-22e8-499a-e39d-7de6556fb54d"
      },
      "execution_count": 19,
      "outputs": [
        {
          "output_type": "stream",
          "name": "stdout",
          "text": [
            "Training accuracy: 0.7534\n",
            "Training accuracy: 0.7912\n",
            "Training accuracy: 0.8110\n",
            "Training accuracy: 0.8266\n",
            "Training accuracy: 0.8426\n",
            "The code executed in 682.7528321743011 seconds.\n",
            "Validation accuracy: 0.4803\n",
            "Validation F1 score: 0.4626\n"
          ]
        }
      ]
    },
    {
      "cell_type": "markdown",
      "source": [
        "#50 Percent"
      ],
      "metadata": {
        "id": "p40zTIvzQaqm"
      }
    },
    {
      "cell_type": "code",
      "source": [
        "import time\n",
        "from sklearn.metrics import f1_score\n",
        "device = torch.device('cuda' if torch.cuda.is_available() else 'cpu')\n",
        "optimizer = AdamW(bert_model.parameters(), lr=1e-4)\n",
        "scheduler = torch.optim.lr_scheduler.StepLR(optimizer, step_size=10, gamma=0.1)\n",
        "percent=50\n",
        "train = random.sample(train1, round(len(train1) * percent / 100)) + random.sample(train2, round(len(train2) * percent / 100)) +random.sample(train3, round(len(train3) * percent / 100)) +random.sample(train4, round(len(train4) * percent / 100)) +random.sample(train5, round(len(train5) * percent / 100)) +random.sample(train6, round(len(train6) * percent / 100))\n",
        "dataset1 = TextClassificationDataset(train, tokenizer, max_len=128)\n",
        "dataset = TextClassificationDataset(dev, tokenizer, max_len=128)\n",
        "trainloader = DataLoader(dataset1, batch_size=16, shuffle=True)\n",
        "devloader = DataLoader(dataset, batch_size=16, shuffle=False)\n",
        "# Training loop\n",
        "start_time = time.time()\n",
        "bert_model.train()\n",
        "for epoch in range(5):\n",
        "    correct_predictions = 0\n",
        "    total_predictions = 0\n",
        "    for batch in trainloader:\n",
        "        optimizer.zero_grad()\n",
        "        input_ids, attention_mask, labels =batch['input_ids'].to(device), batch['attention_mask'].to(device) ,batch['labels'].to(device)\n",
        "        outputs = bert_model(input_ids, attention_mask)\n",
        "        _, preds = torch.max(outputs.logits, dim=1)\n",
        "        loss = nn.CrossEntropyLoss()(outputs.logits, labels)\n",
        "        loss.backward()\n",
        "        optimizer.step()\n",
        "\n",
        "        correct_predictions += torch.sum(preds == labels)\n",
        "        total_predictions += labels.shape[0]\n",
        "\n",
        "    accuracy = correct_predictions.double() / total_predictions\n",
        "    print(f'Training accuracy: {accuracy:.4f}')\n",
        "\n",
        "end_time = time.time()\n",
        "\n",
        "execution_time = end_time - start_time\n",
        "\n",
        "print(f\"The code executed in {execution_time} seconds.\")\n",
        "\n",
        "\n",
        "\n",
        "bert_model.eval()\n",
        "with torch.no_grad():\n",
        "    predictions = []\n",
        "    true_labels = []\n",
        "\n",
        "    correct_predictions = 0\n",
        "    total_predictions = 0\n",
        "    for batch in devloader:\n",
        "        input_ids, attention_mask, labels =batch['input_ids'].to(device), batch['attention_mask'].to(device) ,batch['labels'].to(device)\n",
        "        outputs = bert_model(input_ids, attention_mask)\n",
        "        _, preds = torch.max(outputs.logits, dim=1)\n",
        "\n",
        "        predictions.extend(preds.tolist())\n",
        "        true_labels.extend(labels.tolist())\n",
        "\n",
        "        correct_predictions += torch.sum(preds == labels)\n",
        "        total_predictions += labels.shape[0]\n",
        "\n",
        "    accuracy = correct_predictions.double() / total_predictions\n",
        "    print(f'Validation accuracy: {accuracy:.4f}')\n",
        "\n",
        "    f1 = f1_score(true_labels, predictions, average='weighted')\n",
        "    print(f'Validation F1 score: {f1:.4f}')\n",
        "\n",
        "\n",
        "\n"
      ],
      "metadata": {
        "colab": {
          "base_uri": "https://localhost:8080/"
        },
        "id": "7_Jpac2IQck5",
        "outputId": "6b8701b6-b17c-491e-d712-72e0b9a29800"
      },
      "execution_count": 20,
      "outputs": [
        {
          "output_type": "stream",
          "name": "stderr",
          "text": [
            "/usr/local/lib/python3.10/dist-packages/transformers/optimization.py:411: FutureWarning: This implementation of AdamW is deprecated and will be removed in a future version. Use the PyTorch implementation torch.optim.AdamW instead, or set `no_deprecation_warning=True` to disable this warning\n",
            "  warnings.warn(\n"
          ]
        },
        {
          "output_type": "stream",
          "name": "stdout",
          "text": [
            "Training accuracy: 0.8062\n",
            "Training accuracy: 0.8358\n",
            "Training accuracy: 0.8544\n",
            "Training accuracy: 0.8715\n",
            "Training accuracy: 0.8871\n",
            "The code executed in 3398.6738810539246 seconds.\n",
            "Validation accuracy: 0.5157\n",
            "Validation F1 score: 0.4867\n"
          ]
        }
      ]
    },
    {
      "cell_type": "code",
      "source": [
        "Time=[145.1121301651001,476.6109392642975,682.7528321743011,3398.6738810539246]\n",
        "F1=[0.4408,0.4348,0.4626,0.4867]\n",
        "Epochs=[10,7,5,5]\n",
        "Acc=[0.4257,0.4423,0.4803,0.5157]"
      ],
      "metadata": {
        "id": "rKSPff41tLxs"
      },
      "execution_count": 35,
      "outputs": []
    },
    {
      "cell_type": "code",
      "source": [
        "import matplotlib.pyplot as plt\n",
        "\n",
        "plt.plot([1,5,10,50],Acc)\n",
        "plt.title(\"Accuracy\")"
      ],
      "metadata": {
        "colab": {
          "base_uri": "https://localhost:8080/",
          "height": 469
        },
        "id": "KIIBdCaXtMXq",
        "outputId": "191bd5c9-2508-4607-d27b-0ced930e440f"
      },
      "execution_count": 32,
      "outputs": [
        {
          "output_type": "execute_result",
          "data": {
            "text/plain": [
              "Text(0.5, 1.0, 'Accuracy')"
            ]
          },
          "metadata": {},
          "execution_count": 32
        },
        {
          "output_type": "display_data",
          "data": {
            "text/plain": [
              "<Figure size 640x480 with 1 Axes>"
            ],
            "image/png": "[encoded data removed]"
          },
          "metadata": {}
        }
      ]
    },
    {
      "cell_type": "code",
      "source": [
        "plt.plot([1,5,10,50],F1)\n",
        "plt.title(\"F1 score\")"
      ],
      "metadata": {
        "colab": {
          "base_uri": "https://localhost:8080/",
          "height": 469
        },
        "id": "InpLn4lmtO5_",
        "outputId": "437fccf2-c46d-4609-8d41-f9c9e21a147d"
      },
      "execution_count": 33,
      "outputs": [
        {
          "output_type": "execute_result",
          "data": {
            "text/plain": [
              "Text(0.5, 1.0, 'F1 score')"
            ]
          },
          "metadata": {},
          "execution_count": 33
        },
        {
          "output_type": "display_data",
          "data": {
            "text/plain": [
              "<Figure size 640x480 with 1 Axes>"
            ],
            "image/png": "[encoded data removed]"
          },
          "metadata": {}
        }
      ]
    },
    {
      "cell_type": "markdown",
      "source": [
        "نتایج تا حد خیلی خوبی جواب سوال یک را تایید می کند."
      ],
      "metadata": {
        "id": "f_9VPokEy4ep"
      }
    },
    {
      "cell_type": "code",
      "source": [
        "result = [a/b for a, b in zip(Time, Epochs)]\n",
        "result\n"
      ],
      "metadata": {
        "colab": {
          "base_uri": "https://localhost:8080/"
        },
        "id": "XFg6Ax16zuPi",
        "outputId": "9e4d2a96-a1f4-49fd-c59e-b566cab86563"
      },
      "execution_count": 36,
      "outputs": [
        {
          "output_type": "execute_result",
          "data": {
            "text/plain": [
              "[14.511213016510009, 68.08727703775678, 136.55056643486023, 679.734776210785]"
            ]
          },
          "metadata": {},
          "execution_count": 36
        }
      ]
    },
    {
      "cell_type": "markdown",
      "source": [
        "اما این ریزالت در حالت مدل برت معمولی به صورت زیر بود"
      ],
      "metadata": {
        "id": "eHFkmpnu0Jd0"
      }
    },
    {
      "cell_type": "code",
      "source": [
        "[76.03319475650787, 106.49334931373596, 209.76317278544107, 1029.6287331581116]"
      ],
      "metadata": {
        "id": "7i4Z0zZg0QXT"
      },
      "execution_count": null,
      "outputs": []
    },
    {
      "cell_type": "markdown",
      "source": [
        "همانطور که می بینید زمان به ازای هر ایپاک در مدل با آداپتور بسیار کمتر شده اما از آن طرف اکیورسی ها تفاوت چندانی ندارند و حتی بعضا مدل با آداپتور بهتر عمل کرده است."
      ],
      "metadata": {
        "id": "7LHSGG2v0aq1"
      }
    },
    {
      "cell_type": "code",
      "source": [
        "BertTime=[760.3319475650787,532.4667465686798,629.2895183563232,3088.8861994743347]\n",
        "BertF1=[0.3941,0.3810,0.4249,0.5134]\n",
        "BertEpochs=[10,5,3,3]\n",
        "BertAcc=[0.4673,0.4097,0.4443,0.5290]\n",
        "\n",
        "\n",
        "\n",
        "AdapterTime=[145.1121301651001,476.6109392642975,682.7528321743011,3398.6738810539246]\n",
        "AdapterF1=[0.4408,0.4348,0.4626,0.4867]\n",
        "AdapterEpochs=[10,7,5,5]\n",
        "AdapterAcc=[0.4257,0.4423,0.4803,0.5157]"
      ],
      "metadata": {
        "id": "6QboIIh71JtS"
      },
      "execution_count": null,
      "outputs": []
    }
  ],
  "metadata": {
    "accelerator": "GPU",
    "colab": {
      "provenance": [],
      "gpuType": "T4"
    },
    "kernelspec": {
      "display_name": "Python 3",
      "name": "python3"
    },
    "language_info": {
      "codemirror_mode": {
        "name": "ipython",
        "version": 3
      },
      "file_extension": ".py",
      "mimetype": "text/x-python",
      "name": "python",
      "nbconvert_exporter": "python",
      "pygments_lexer": "ipython3",
      "version": "3.8.10"
    },
    "widgets": {
      "application/vnd.jupyter.widget-state+json": {
        "2e7bd1a923254d3c8696a7480a0a4cd9": {
          "model_module": "@jupyter-widgets/controls",
          "model_name": "HBoxModel",
          "model_module_version": "1.5.0",
          "state": {
            "_dom_classes": [],
            "_model_module": "@jupyter-widgets/controls",
            "_model_module_version": "1.5.0",
            "_model_name": "HBoxModel",
            "_view_count": null,
            "_view_module": "@jupyter-widgets/controls",
            "_view_module_version": "1.5.0",
            "_view_name": "HBoxView",
            "box_style": "",
            "children": [
              "IPY_MODEL_45fca35e74124fa08ce0470723eaae6f",
              "IPY_MODEL_ffa4a417a80b4abd866612236373230c",
              "IPY_MODEL_80e64d141ced406daf09103ab1caf7c9"
            ],
            "layout": "IPY_MODEL_70faee679d3b4cf497cbbf8cbee2ea4c"
          }
        },
        "45fca35e74124fa08ce0470723eaae6f": {
          "model_module": "@jupyter-widgets/controls",
          "model_name": "HTMLModel",
          "model_module_version": "1.5.0",
          "state": {
            "_dom_classes": [],
            "_model_module": "@jupyter-widgets/controls",
            "_model_module_version": "1.5.0",
            "_model_name": "HTMLModel",
            "_view_count": null,
            "_view_module": "@jupyter-widgets/controls",
            "_view_module_version": "1.5.0",
            "_view_name": "HTMLView",
            "description": "",
            "description_tooltip": null,
            "layout": "IPY_MODEL_76b625c43cc54385a16138a490db9f59",
            "placeholder": "​",
            "style": "IPY_MODEL_1370383401ba47ffa08c0c04225048f1",
            "value": "tokenizer_config.json: 100%"
          }
        },
        "ffa4a417a80b4abd866612236373230c": {
          "model_module": "@jupyter-widgets/controls",
          "model_name": "FloatProgressModel",
          "model_module_version": "1.5.0",
          "state": {
            "_dom_classes": [],
            "_model_module": "@jupyter-widgets/controls",
            "_model_module_version": "1.5.0",
            "_model_name": "FloatProgressModel",
            "_view_count": null,
            "_view_module": "@jupyter-widgets/controls",
            "_view_module_version": "1.5.0",
            "_view_name": "ProgressView",
            "bar_style": "success",
            "description": "",
            "description_tooltip": null,
            "layout": "IPY_MODEL_bc43387fae624aa9a35a71f424b674a4",
            "max": 28,
            "min": 0,
            "orientation": "horizontal",
            "style": "IPY_MODEL_5b97f76ea8b64934a3f0a25a9865c955",
            "value": 28
          }
        },
        "80e64d141ced406daf09103ab1caf7c9": {
          "model_module": "@jupyter-widgets/controls",
          "model_name": "HTMLModel",
          "model_module_version": "1.5.0",
          "state": {
            "_dom_classes": [],
            "_model_module": "@jupyter-widgets/controls",
            "_model_module_version": "1.5.0",
            "_model_name": "HTMLModel",
            "_view_count": null,
            "_view_module": "@jupyter-widgets/controls",
            "_view_module_version": "1.5.0",
            "_view_name": "HTMLView",
            "description": "",
            "description_tooltip": null,
            "layout": "IPY_MODEL_942b0760e8854e3491af22547499fdd2",
            "placeholder": "​",
            "style": "IPY_MODEL_0f678e21ce994e5e99de0f950514bdb4",
            "value": " 28.0/28.0 [00:00&lt;00:00, 988B/s]"
          }
        },
        "70faee679d3b4cf497cbbf8cbee2ea4c": {
          "model_module": "@jupyter-widgets/base",
          "model_name": "LayoutModel",
          "model_module_version": "1.2.0",
          "state": {
            "_model_module": "@jupyter-widgets/base",
            "_model_module_version": "1.2.0",
            "_model_name": "LayoutModel",
            "_view_count": null,
            "_view_module": "@jupyter-widgets/base",
            "_view_module_version": "1.2.0",
            "_view_name": "LayoutView",
            "align_content": null,
            "align_items": null,
            "align_self": null,
            "border": null,
            "bottom": null,
            "display": null,
            "flex": null,
            "flex_flow": null,
            "grid_area": null,
            "grid_auto_columns": null,
            "grid_auto_flow": null,
            "grid_auto_rows": null,
            "grid_column": null,
            "grid_gap": null,
            "grid_row": null,
            "grid_template_areas": null,
            "grid_template_columns": null,
            "grid_template_rows": null,
            "height": null,
            "justify_content": null,
            "justify_items": null,
            "left": null,
            "margin": null,
            "max_height": null,
            "max_width": null,
            "min_height": null,
            "min_width": null,
            "object_fit": null,
            "object_position": null,
            "order": null,
            "overflow": null,
            "overflow_x": null,
            "overflow_y": null,
            "padding": null,
            "right": null,
            "top": null,
            "visibility": null,
            "width": null
          }
        },
        "76b625c43cc54385a16138a490db9f59": {
          "model_module": "@jupyter-widgets/base",
          "model_name": "LayoutModel",
          "model_module_version": "1.2.0",
          "state": {
            "_model_module": "@jupyter-widgets/base",
            "_model_module_version": "1.2.0",
            "_model_name": "LayoutModel",
            "_view_count": null,
            "_view_module": "@jupyter-widgets/base",
            "_view_module_version": "1.2.0",
            "_view_name": "LayoutView",
            "align_content": null,
            "align_items": null,
            "align_self": null,
            "border": null,
            "bottom": null,
            "display": null,
            "flex": null,
            "flex_flow": null,
            "grid_area": null,
            "grid_auto_columns": null,
            "grid_auto_flow": null,
            "grid_auto_rows": null,
            "grid_column": null,
            "grid_gap": null,
            "grid_row": null,
            "grid_template_areas": null,
            "grid_template_columns": null,
            "grid_template_rows": null,
            "height": null,
            "justify_content": null,
            "justify_items": null,
            "left": null,
            "margin": null,
            "max_height": null,
            "max_width": null,
            "min_height": null,
            "min_width": null,
            "object_fit": null,
            "object_position": null,
            "order": null,
            "overflow": null,
            "overflow_x": null,
            "overflow_y": null,
            "padding": null,
            "right": null,
            "top": null,
            "visibility": null,
            "width": null
          }
        },
        "1370383401ba47ffa08c0c04225048f1": {
          "model_module": "@jupyter-widgets/controls",
          "model_name": "DescriptionStyleModel",
          "model_module_version": "1.5.0",
          "state": {
            "_model_module": "@jupyter-widgets/controls",
            "_model_module_version": "1.5.0",
            "_model_name": "DescriptionStyleModel",
            "_view_count": null,
            "_view_module": "@jupyter-widgets/base",
            "_view_module_version": "1.2.0",
            "_view_name": "StyleView",
            "description_width": ""
          }
        },
        "bc43387fae624aa9a35a71f424b674a4": {
          "model_module": "@jupyter-widgets/base",
          "model_name": "LayoutModel",
          "model_module_version": "1.2.0",
          "state": {
            "_model_module": "@jupyter-widgets/base",
            "_model_module_version": "1.2.0",
            "_model_name": "LayoutModel",
            "_view_count": null,
            "_view_module": "@jupyter-widgets/base",
            "_view_module_version": "1.2.0",
            "_view_name": "LayoutView",
            "align_content": null,
            "align_items": null,
            "align_self": null,
            "border": null,
            "bottom": null,
            "display": null,
            "flex": null,
            "flex_flow": null,
            "grid_area": null,
            "grid_auto_columns": null,
            "grid_auto_flow": null,
            "grid_auto_rows": null,
            "grid_column": null,
            "grid_gap": null,
            "grid_row": null,
            "grid_template_areas": null,
            "grid_template_columns": null,
            "grid_template_rows": null,
            "height": null,
            "justify_content": null,
            "justify_items": null,
            "left": null,
            "margin": null,
            "max_height": null,
            "max_width": null,
            "min_height": null,
            "min_width": null,
            "object_fit": null,
            "object_position": null,
            "order": null,
            "overflow": null,
            "overflow_x": null,
            "overflow_y": null,
            "padding": null,
            "right": null,
            "top": null,
            "visibility": null,
            "width": null
          }
        },
        "5b97f76ea8b64934a3f0a25a9865c955": {
          "model_module": "@jupyter-widgets/controls",
          "model_name": "ProgressStyleModel",
          "model_module_version": "1.5.0",
          "state": {
            "_model_module": "@jupyter-widgets/controls",
            "_model_module_version": "1.5.0",
            "_model_name": "ProgressStyleModel",
            "_view_count": null,
            "_view_module": "@jupyter-widgets/base",
            "_view_module_version": "1.2.0",
            "_view_name": "StyleView",
            "bar_color": null,
            "description_width": ""
          }
        },
        "942b0760e8854e3491af22547499fdd2": {
          "model_module": "@jupyter-widgets/base",
          "model_name": "LayoutModel",
          "model_module_version": "1.2.0",
          "state": {
            "_model_module": "@jupyter-widgets/base",
            "_model_module_version": "1.2.0",
            "_model_name": "LayoutModel",
            "_view_count": null,
            "_view_module": "@jupyter-widgets/base",
            "_view_module_version": "1.2.0",
            "_view_name": "LayoutView",
            "align_content": null,
            "align_items": null,
            "align_self": null,
            "border": null,
            "bottom": null,
            "display": null,
            "flex": null,
            "flex_flow": null,
            "grid_area": null,
            "grid_auto_columns": null,
            "grid_auto_flow": null,
            "grid_auto_rows": null,
            "grid_column": null,
            "grid_gap": null,
            "grid_row": null,
            "grid_template_areas": null,
            "grid_template_columns": null,
            "grid_template_rows": null,
            "height": null,
            "justify_content": null,
            "justify_items": null,
            "left": null,
            "margin": null,
            "max_height": null,
            "max_width": null,
            "min_height": null,
            "min_width": null,
            "object_fit": null,
            "object_position": null,
            "order": null,
            "overflow": null,
            "overflow_x": null,
            "overflow_y": null,
            "padding": null,
            "right": null,
            "top": null,
            "visibility": null,
            "width": null
          }
        },
        "0f678e21ce994e5e99de0f950514bdb4": {
          "model_module": "@jupyter-widgets/controls",
          "model_name": "DescriptionStyleModel",
          "model_module_version": "1.5.0",
          "state": {
            "_model_module": "@jupyter-widgets/controls",
            "_model_module_version": "1.5.0",
            "_model_name": "DescriptionStyleModel",
            "_view_count": null,
            "_view_module": "@jupyter-widgets/base",
            "_view_module_version": "1.2.0",
            "_view_name": "StyleView",
            "description_width": ""
          }
        },
        "ac3157eb8fa44211a375a6dcccd40eaa": {
          "model_module": "@jupyter-widgets/controls",
          "model_name": "HBoxModel",
          "model_module_version": "1.5.0",
          "state": {
            "_dom_classes": [],
            "_model_module": "@jupyter-widgets/controls",
            "_model_module_version": "1.5.0",
            "_model_name": "HBoxModel",
            "_view_count": null,
            "_view_module": "@jupyter-widgets/controls",
            "_view_module_version": "1.5.0",
            "_view_name": "HBoxView",
            "box_style": "",
            "children": [
              "IPY_MODEL_0c464b34adc442d4ae49bb4a38d6693b",
              "IPY_MODEL_b732c8e1219b4485aedfcf4c3e6416e0",
              "IPY_MODEL_4aa7e66664c548978fb6ef2b2f58e9ef"
            ],
            "layout": "IPY_MODEL_731452cac725490e891a4b1995ff5d86"
          }
        },
        "0c464b34adc442d4ae49bb4a38d6693b": {
          "model_module": "@jupyter-widgets/controls",
          "model_name": "HTMLModel",
          "model_module_version": "1.5.0",
          "state": {
            "_dom_classes": [],
            "_model_module": "@jupyter-widgets/controls",
            "_model_module_version": "1.5.0",
            "_model_name": "HTMLModel",
            "_view_count": null,
            "_view_module": "@jupyter-widgets/controls",
            "_view_module_version": "1.5.0",
            "_view_name": "HTMLView",
            "description": "",
            "description_tooltip": null,
            "layout": "IPY_MODEL_1babf59c08c647b69ba754399e18d911",
            "placeholder": "​",
            "style": "IPY_MODEL_b870ba95d64a4e30abf6aa1f6699c17d",
            "value": "vocab.txt: 100%"
          }
        },
        "b732c8e1219b4485aedfcf4c3e6416e0": {
          "model_module": "@jupyter-widgets/controls",
          "model_name": "FloatProgressModel",
          "model_module_version": "1.5.0",
          "state": {
            "_dom_classes": [],
            "_model_module": "@jupyter-widgets/controls",
            "_model_module_version": "1.5.0",
            "_model_name": "FloatProgressModel",
            "_view_count": null,
            "_view_module": "@jupyter-widgets/controls",
            "_view_module_version": "1.5.0",
            "_view_name": "ProgressView",
            "bar_style": "success",
            "description": "",
            "description_tooltip": null,
            "layout": "IPY_MODEL_86957c8e18aa44bfb21e205f6fea4693",
            "max": 231508,
            "min": 0,
            "orientation": "horizontal",
            "style": "IPY_MODEL_e210b2a3e5f142edb273a7f552164673",
            "value": 231508
          }
        },
        "4aa7e66664c548978fb6ef2b2f58e9ef": {
          "model_module": "@jupyter-widgets/controls",
          "model_name": "HTMLModel",
          "model_module_version": "1.5.0",
          "state": {
            "_dom_classes": [],
            "_model_module": "@jupyter-widgets/controls",
            "_model_module_version": "1.5.0",
            "_model_name": "HTMLModel",
            "_view_count": null,
            "_view_module": "@jupyter-widgets/controls",
            "_view_module_version": "1.5.0",
            "_view_name": "HTMLView",
            "description": "",
            "description_tooltip": null,
            "layout": "IPY_MODEL_e1e2768364f545a0830e4fbc1dda724d",
            "placeholder": "​",
            "style": "IPY_MODEL_87d7e3ca6cf84efc9df798abd65afa2a",
            "value": " 232k/232k [00:00&lt;00:00, 4.07MB/s]"
          }
        },
        "731452cac725490e891a4b1995ff5d86": {
          "model_module": "@jupyter-widgets/base",
          "model_name": "LayoutModel",
          "model_module_version": "1.2.0",
          "state": {
            "_model_module": "@jupyter-widgets/base",
            "_model_module_version": "1.2.0",
            "_model_name": "LayoutModel",
            "_view_count": null,
            "_view_module": "@jupyter-widgets/base",
            "_view_module_version": "1.2.0",
            "_view_name": "LayoutView",
            "align_content": null,
            "align_items": null,
            "align_self": null,
            "border": null,
            "bottom": null,
            "display": null,
            "flex": null,
            "flex_flow": null,
            "grid_area": null,
            "grid_auto_columns": null,
            "grid_auto_flow": null,
            "grid_auto_rows": null,
            "grid_column": null,
            "grid_gap": null,
            "grid_row": null,
            "grid_template_areas": null,
            "grid_template_columns": null,
            "grid_template_rows": null,
            "height": null,
            "justify_content": null,
            "justify_items": null,
            "left": null,
            "margin": null,
            "max_height": null,
            "max_width": null,
            "min_height": null,
            "min_width": null,
            "object_fit": null,
            "object_position": null,
            "order": null,
            "overflow": null,
            "overflow_x": null,
            "overflow_y": null,
            "padding": null,
            "right": null,
            "top": null,
            "visibility": null,
            "width": null
          }
        },
        "1babf59c08c647b69ba754399e18d911": {
          "model_module": "@jupyter-widgets/base",
          "model_name": "LayoutModel",
          "model_module_version": "1.2.0",
          "state": {
            "_model_module": "@jupyter-widgets/base",
            "_model_module_version": "1.2.0",
            "_model_name": "LayoutModel",
            "_view_count": null,
            "_view_module": "@jupyter-widgets/base",
            "_view_module_version": "1.2.0",
            "_view_name": "LayoutView",
            "align_content": null,
            "align_items": null,
            "align_self": null,
            "border": null,
            "bottom": null,
            "display": null,
            "flex": null,
            "flex_flow": null,
            "grid_area": null,
            "grid_auto_columns": null,
            "grid_auto_flow": null,
            "grid_auto_rows": null,
            "grid_column": null,
            "grid_gap": null,
            "grid_row": null,
            "grid_template_areas": null,
            "grid_template_columns": null,
            "grid_template_rows": null,
            "height": null,
            "justify_content": null,
            "justify_items": null,
            "left": null,
            "margin": null,
            "max_height": null,
            "max_width": null,
            "min_height": null,
            "min_width": null,
            "object_fit": null,
            "object_position": null,
            "order": null,
            "overflow": null,
            "overflow_x": null,
            "overflow_y": null,
            "padding": null,
            "right": null,
            "top": null,
            "visibility": null,
            "width": null
          }
        },
        "b870ba95d64a4e30abf6aa1f6699c17d": {
          "model_module": "@jupyter-widgets/controls",
          "model_name": "DescriptionStyleModel",
          "model_module_version": "1.5.0",
          "state": {
            "_model_module": "@jupyter-widgets/controls",
            "_model_module_version": "1.5.0",
            "_model_name": "DescriptionStyleModel",
            "_view_count": null,
            "_view_module": "@jupyter-widgets/base",
            "_view_module_version": "1.2.0",
            "_view_name": "StyleView",
            "description_width": ""
          }
        },
        "86957c8e18aa44bfb21e205f6fea4693": {
          "model_module": "@jupyter-widgets/base",
          "model_name": "LayoutModel",
          "model_module_version": "1.2.0",
          "state": {
            "_model_module": "@jupyter-widgets/base",
            "_model_module_version": "1.2.0",
            "_model_name": "LayoutModel",
            "_view_count": null,
            "_view_module": "@jupyter-widgets/base",
            "_view_module_version": "1.2.0",
            "_view_name": "LayoutView",
            "align_content": null,
            "align_items": null,
            "align_self": null,
            "border": null,
            "bottom": null,
            "display": null,
            "flex": null,
            "flex_flow": null,
            "grid_area": null,
            "grid_auto_columns": null,
            "grid_auto_flow": null,
            "grid_auto_rows": null,
            "grid_column": null,
            "grid_gap": null,
            "grid_row": null,
            "grid_template_areas": null,
            "grid_template_columns": null,
            "grid_template_rows": null,
            "height": null,
            "justify_content": null,
            "justify_items": null,
            "left": null,
            "margin": null,
            "max_height": null,
            "max_width": null,
            "min_height": null,
            "min_width": null,
            "object_fit": null,
            "object_position": null,
            "order": null,
            "overflow": null,
            "overflow_x": null,
            "overflow_y": null,
            "padding": null,
            "right": null,
            "top": null,
            "visibility": null,
            "width": null
          }
        },
        "e210b2a3e5f142edb273a7f552164673": {
          "model_module": "@jupyter-widgets/controls",
          "model_name": "ProgressStyleModel",
          "model_module_version": "1.5.0",
          "state": {
            "_model_module": "@jupyter-widgets/controls",
            "_model_module_version": "1.5.0",
            "_model_name": "ProgressStyleModel",
            "_view_count": null,
            "_view_module": "@jupyter-widgets/base",
            "_view_module_version": "1.2.0",
            "_view_name": "StyleView",
            "bar_color": null,
            "description_width": ""
          }
        },
        "e1e2768364f545a0830e4fbc1dda724d": {
          "model_module": "@jupyter-widgets/base",
          "model_name": "LayoutModel",
          "model_module_version": "1.2.0",
          "state": {
            "_model_module": "@jupyter-widgets/base",
            "_model_module_version": "1.2.0",
            "_model_name": "LayoutModel",
            "_view_count": null,
            "_view_module": "@jupyter-widgets/base",
            "_view_module_version": "1.2.0",
            "_view_name": "LayoutView",
            "align_content": null,
            "align_items": null,
            "align_self": null,
            "border": null,
            "bottom": null,
            "display": null,
            "flex": null,
            "flex_flow": null,
            "grid_area": null,
            "grid_auto_columns": null,
            "grid_auto_flow": null,
            "grid_auto_rows": null,
            "grid_column": null,
            "grid_gap": null,
            "grid_row": null,
            "grid_template_areas": null,
            "grid_template_columns": null,
            "grid_template_rows": null,
            "height": null,
            "justify_content": null,
            "justify_items": null,
            "left": null,
            "margin": null,
            "max_height": null,
            "max_width": null,
            "min_height": null,
            "min_width": null,
            "object_fit": null,
            "object_position": null,
            "order": null,
            "overflow": null,
            "overflow_x": null,
            "overflow_y": null,
            "padding": null,
            "right": null,
            "top": null,
            "visibility": null,
            "width": null
          }
        },
        "87d7e3ca6cf84efc9df798abd65afa2a": {
          "model_module": "@jupyter-widgets/controls",
          "model_name": "DescriptionStyleModel",
          "model_module_version": "1.5.0",
          "state": {
            "_model_module": "@jupyter-widgets/controls",
            "_model_module_version": "1.5.0",
            "_model_name": "DescriptionStyleModel",
            "_view_count": null,
            "_view_module": "@jupyter-widgets/base",
            "_view_module_version": "1.2.0",
            "_view_name": "StyleView",
            "description_width": ""
          }
        },
        "a1ac5df0c49d4576afc30f71e164e337": {
          "model_module": "@jupyter-widgets/controls",
          "model_name": "HBoxModel",
          "model_module_version": "1.5.0",
          "state": {
            "_dom_classes": [],
            "_model_module": "@jupyter-widgets/controls",
            "_model_module_version": "1.5.0",
            "_model_name": "HBoxModel",
            "_view_count": null,
            "_view_module": "@jupyter-widgets/controls",
            "_view_module_version": "1.5.0",
            "_view_name": "HBoxView",
            "box_style": "",
            "children": [
              "IPY_MODEL_b68e086f95bc4b77bc9695c204e605ba",
              "IPY_MODEL_c867dddfdd0249c4a7a2c31172d8aa80",
              "IPY_MODEL_776a6790fc2d4e0688377863d3a8f5c1"
            ],
            "layout": "IPY_MODEL_97f59ee2d8504d8d8704f97e3fde83e1"
          }
        },
        "b68e086f95bc4b77bc9695c204e605ba": {
          "model_module": "@jupyter-widgets/controls",
          "model_name": "HTMLModel",
          "model_module_version": "1.5.0",
          "state": {
            "_dom_classes": [],
            "_model_module": "@jupyter-widgets/controls",
            "_model_module_version": "1.5.0",
            "_model_name": "HTMLModel",
            "_view_count": null,
            "_view_module": "@jupyter-widgets/controls",
            "_view_module_version": "1.5.0",
            "_view_name": "HTMLView",
            "description": "",
            "description_tooltip": null,
            "layout": "IPY_MODEL_2d77c7dcdd0f4e2cb94327abe0aafe69",
            "placeholder": "​",
            "style": "IPY_MODEL_a7f71c5f58b644dea98dbc421acda571",
            "value": "tokenizer.json: 100%"
          }
        },
        "c867dddfdd0249c4a7a2c31172d8aa80": {
          "model_module": "@jupyter-widgets/controls",
          "model_name": "FloatProgressModel",
          "model_module_version": "1.5.0",
          "state": {
            "_dom_classes": [],
            "_model_module": "@jupyter-widgets/controls",
            "_model_module_version": "1.5.0",
            "_model_name": "FloatProgressModel",
            "_view_count": null,
            "_view_module": "@jupyter-widgets/controls",
            "_view_module_version": "1.5.0",
            "_view_name": "ProgressView",
            "bar_style": "success",
            "description": "",
            "description_tooltip": null,
            "layout": "IPY_MODEL_9f0ac72b7d47411d92a545f212293949",
            "max": 466062,
            "min": 0,
            "orientation": "horizontal",
            "style": "IPY_MODEL_bcc66ba00f8a4039a69d51967fa3a794",
            "value": 466062
          }
        },
        "776a6790fc2d4e0688377863d3a8f5c1": {
          "model_module": "@jupyter-widgets/controls",
          "model_name": "HTMLModel",
          "model_module_version": "1.5.0",
          "state": {
            "_dom_classes": [],
            "_model_module": "@jupyter-widgets/controls",
            "_model_module_version": "1.5.0",
            "_model_name": "HTMLModel",
            "_view_count": null,
            "_view_module": "@jupyter-widgets/controls",
            "_view_module_version": "1.5.0",
            "_view_name": "HTMLView",
            "description": "",
            "description_tooltip": null,
            "layout": "IPY_MODEL_e3ca094184a14b6c8edf4f8ff357b619",
            "placeholder": "​",
            "style": "IPY_MODEL_c066516ea463486fa2f5a98f1dcbbfde",
            "value": " 466k/466k [00:00&lt;00:00, 13.6MB/s]"
          }
        },
        "97f59ee2d8504d8d8704f97e3fde83e1": {
          "model_module": "@jupyter-widgets/base",
          "model_name": "LayoutModel",
          "model_module_version": "1.2.0",
          "state": {
            "_model_module": "@jupyter-widgets/base",
            "_model_module_version": "1.2.0",
            "_model_name": "LayoutModel",
            "_view_count": null,
            "_view_module": "@jupyter-widgets/base",
            "_view_module_version": "1.2.0",
            "_view_name": "LayoutView",
            "align_content": null,
            "align_items": null,
            "align_self": null,
            "border": null,
            "bottom": null,
            "display": null,
            "flex": null,
            "flex_flow": null,
            "grid_area": null,
            "grid_auto_columns": null,
            "grid_auto_flow": null,
            "grid_auto_rows": null,
            "grid_column": null,
            "grid_gap": null,
            "grid_row": null,
            "grid_template_areas": null,
            "grid_template_columns": null,
            "grid_template_rows": null,
            "height": null,
            "justify_content": null,
            "justify_items": null,
            "left": null,
            "margin": null,
            "max_height": null,
            "max_width": null,
            "min_height": null,
            "min_width": null,
            "object_fit": null,
            "object_position": null,
            "order": null,
            "overflow": null,
            "overflow_x": null,
            "overflow_y": null,
            "padding": null,
            "right": null,
            "top": null,
            "visibility": null,
            "width": null
          }
        },
        "2d77c7dcdd0f4e2cb94327abe0aafe69": {
          "model_module": "@jupyter-widgets/base",
          "model_name": "LayoutModel",
          "model_module_version": "1.2.0",
          "state": {
            "_model_module": "@jupyter-widgets/base",
            "_model_module_version": "1.2.0",
            "_model_name": "LayoutModel",
            "_view_count": null,
            "_view_module": "@jupyter-widgets/base",
            "_view_module_version": "1.2.0",
            "_view_name": "LayoutView",
            "align_content": null,
            "align_items": null,
            "align_self": null,
            "border": null,
            "bottom": null,
            "display": null,
            "flex": null,
            "flex_flow": null,
            "grid_area": null,
            "grid_auto_columns": null,
            "grid_auto_flow": null,
            "grid_auto_rows": null,
            "grid_column": null,
            "grid_gap": null,
            "grid_row": null,
            "grid_template_areas": null,
            "grid_template_columns": null,
            "grid_template_rows": null,
            "height": null,
            "justify_content": null,
            "justify_items": null,
            "left": null,
            "margin": null,
            "max_height": null,
            "max_width": null,
            "min_height": null,
            "min_width": null,
            "object_fit": null,
            "object_position": null,
            "order": null,
            "overflow": null,
            "overflow_x": null,
            "overflow_y": null,
            "padding": null,
            "right": null,
            "top": null,
            "visibility": null,
            "width": null
          }
        },
        "a7f71c5f58b644dea98dbc421acda571": {
          "model_module": "@jupyter-widgets/controls",
          "model_name": "DescriptionStyleModel",
          "model_module_version": "1.5.0",
          "state": {
            "_model_module": "@jupyter-widgets/controls",
            "_model_module_version": "1.5.0",
            "_model_name": "DescriptionStyleModel",
            "_view_count": null,
            "_view_module": "@jupyter-widgets/base",
            "_view_module_version": "1.2.0",
            "_view_name": "StyleView",
            "description_width": ""
          }
        },
        "9f0ac72b7d47411d92a545f212293949": {
          "model_module": "@jupyter-widgets/base",
          "model_name": "LayoutModel",
          "model_module_version": "1.2.0",
          "state": {
            "_model_module": "@jupyter-widgets/base",
            "_model_module_version": "1.2.0",
            "_model_name": "LayoutModel",
            "_view_count": null,
            "_view_module": "@jupyter-widgets/base",
            "_view_module_version": "1.2.0",
            "_view_name": "LayoutView",
            "align_content": null,
            "align_items": null,
            "align_self": null,
            "border": null,
            "bottom": null,
            "display": null,
            "flex": null,
            "flex_flow": null,
            "grid_area": null,
            "grid_auto_columns": null,
            "grid_auto_flow": null,
            "grid_auto_rows": null,
            "grid_column": null,
            "grid_gap": null,
            "grid_row": null,
            "grid_template_areas": null,
            "grid_template_columns": null,
            "grid_template_rows": null,
            "height": null,
            "justify_content": null,
            "justify_items": null,
            "left": null,
            "margin": null,
            "max_height": null,
            "max_width": null,
            "min_height": null,
            "min_width": null,
            "object_fit": null,
            "object_position": null,
            "order": null,
            "overflow": null,
            "overflow_x": null,
            "overflow_y": null,
            "padding": null,
            "right": null,
            "top": null,
            "visibility": null,
            "width": null
          }
        },
        "bcc66ba00f8a4039a69d51967fa3a794": {
          "model_module": "@jupyter-widgets/controls",
          "model_name": "ProgressStyleModel",
          "model_module_version": "1.5.0",
          "state": {
            "_model_module": "@jupyter-widgets/controls",
            "_model_module_version": "1.5.0",
            "_model_name": "ProgressStyleModel",
            "_view_count": null,
            "_view_module": "@jupyter-widgets/base",
            "_view_module_version": "1.2.0",
            "_view_name": "StyleView",
            "bar_color": null,
            "description_width": ""
          }
        },
        "e3ca094184a14b6c8edf4f8ff357b619": {
          "model_module": "@jupyter-widgets/base",
          "model_name": "LayoutModel",
          "model_module_version": "1.2.0",
          "state": {
            "_model_module": "@jupyter-widgets/base",
            "_model_module_version": "1.2.0",
            "_model_name": "LayoutModel",
            "_view_count": null,
            "_view_module": "@jupyter-widgets/base",
            "_view_module_version": "1.2.0",
            "_view_name": "LayoutView",
            "align_content": null,
            "align_items": null,
            "align_self": null,
            "border": null,
            "bottom": null,
            "display": null,
            "flex": null,
            "flex_flow": null,
            "grid_area": null,
            "grid_auto_columns": null,
            "grid_auto_flow": null,
            "grid_auto_rows": null,
            "grid_column": null,
            "grid_gap": null,
            "grid_row": null,
            "grid_template_areas": null,
            "grid_template_columns": null,
            "grid_template_rows": null,
            "height": null,
            "justify_content": null,
            "justify_items": null,
            "left": null,
            "margin": null,
            "max_height": null,
            "max_width": null,
            "min_height": null,
            "min_width": null,
            "object_fit": null,
            "object_position": null,
            "order": null,
            "overflow": null,
            "overflow_x": null,
            "overflow_y": null,
            "padding": null,
            "right": null,
            "top": null,
            "visibility": null,
            "width": null
          }
        },
        "c066516ea463486fa2f5a98f1dcbbfde": {
          "model_module": "@jupyter-widgets/controls",
          "model_name": "DescriptionStyleModel",
          "model_module_version": "1.5.0",
          "state": {
            "_model_module": "@jupyter-widgets/controls",
            "_model_module_version": "1.5.0",
            "_model_name": "DescriptionStyleModel",
            "_view_count": null,
            "_view_module": "@jupyter-widgets/base",
            "_view_module_version": "1.2.0",
            "_view_name": "StyleView",
            "description_width": ""
          }
        },
        "58901b53058e4854838146e9e6ac300d": {
          "model_module": "@jupyter-widgets/controls",
          "model_name": "HBoxModel",
          "model_module_version": "1.5.0",
          "state": {
            "_dom_classes": [],
            "_model_module": "@jupyter-widgets/controls",
            "_model_module_version": "1.5.0",
            "_model_name": "HBoxModel",
            "_view_count": null,
            "_view_module": "@jupyter-widgets/controls",
            "_view_module_version": "1.5.0",
            "_view_name": "HBoxView",
            "box_style": "",
            "children": [
              "IPY_MODEL_314ff2bc60d942ec81ee5bb89101c6d2",
              "IPY_MODEL_3c6c35c11ade4420ac010d85c07d0f5d",
              "IPY_MODEL_56d09047ec40415db8f664e9abf32e0c"
            ],
            "layout": "IPY_MODEL_f8e6fb57a44e4b25bedfa5597599f665"
          }
        },
        "314ff2bc60d942ec81ee5bb89101c6d2": {
          "model_module": "@jupyter-widgets/controls",
          "model_name": "HTMLModel",
          "model_module_version": "1.5.0",
          "state": {
            "_dom_classes": [],
            "_model_module": "@jupyter-widgets/controls",
            "_model_module_version": "1.5.0",
            "_model_name": "HTMLModel",
            "_view_count": null,
            "_view_module": "@jupyter-widgets/controls",
            "_view_module_version": "1.5.0",
            "_view_name": "HTMLView",
            "description": "",
            "description_tooltip": null,
            "layout": "IPY_MODEL_c8f9a532dbb2484f9d85f15e06696617",
            "placeholder": "​",
            "style": "IPY_MODEL_839dd4777a204f7eac6d32752cebe984",
            "value": "config.json: 100%"
          }
        },
        "3c6c35c11ade4420ac010d85c07d0f5d": {
          "model_module": "@jupyter-widgets/controls",
          "model_name": "FloatProgressModel",
          "model_module_version": "1.5.0",
          "state": {
            "_dom_classes": [],
            "_model_module": "@jupyter-widgets/controls",
            "_model_module_version": "1.5.0",
            "_model_name": "FloatProgressModel",
            "_view_count": null,
            "_view_module": "@jupyter-widgets/controls",
            "_view_module_version": "1.5.0",
            "_view_name": "ProgressView",
            "bar_style": "success",
            "description": "",
            "description_tooltip": null,
            "layout": "IPY_MODEL_eb08ffbb31f34ed589a57e82685ec22a",
            "max": 570,
            "min": 0,
            "orientation": "horizontal",
            "style": "IPY_MODEL_713bd431607f4e4ab313763b7e76386d",
            "value": 570
          }
        },
        "56d09047ec40415db8f664e9abf32e0c": {
          "model_module": "@jupyter-widgets/controls",
          "model_name": "HTMLModel",
          "model_module_version": "1.5.0",
          "state": {
            "_dom_classes": [],
            "_model_module": "@jupyter-widgets/controls",
            "_model_module_version": "1.5.0",
            "_model_name": "HTMLModel",
            "_view_count": null,
            "_view_module": "@jupyter-widgets/controls",
            "_view_module_version": "1.5.0",
            "_view_name": "HTMLView",
            "description": "",
            "description_tooltip": null,
            "layout": "IPY_MODEL_2064cf64a75445be8241495b6a97025a",
            "placeholder": "​",
            "style": "IPY_MODEL_01544754beb541a3987dbdb942abfad6",
            "value": " 570/570 [00:00&lt;00:00, 8.02kB/s]"
          }
        },
        "f8e6fb57a44e4b25bedfa5597599f665": {
          "model_module": "@jupyter-widgets/base",
          "model_name": "LayoutModel",
          "model_module_version": "1.2.0",
          "state": {
            "_model_module": "@jupyter-widgets/base",
            "_model_module_version": "1.2.0",
            "_model_name": "LayoutModel",
            "_view_count": null,
            "_view_module": "@jupyter-widgets/base",
            "_view_module_version": "1.2.0",
            "_view_name": "LayoutView",
            "align_content": null,
            "align_items": null,
            "align_self": null,
            "border": null,
            "bottom": null,
            "display": null,
            "flex": null,
            "flex_flow": null,
            "grid_area": null,
            "grid_auto_columns": null,
            "grid_auto_flow": null,
            "grid_auto_rows": null,
            "grid_column": null,
            "grid_gap": null,
            "grid_row": null,
            "grid_template_areas": null,
            "grid_template_columns": null,
            "grid_template_rows": null,
            "height": null,
            "justify_content": null,
            "justify_items": null,
            "left": null,
            "margin": null,
            "max_height": null,
            "max_width": null,
            "min_height": null,
            "min_width": null,
            "object_fit": null,
            "object_position": null,
            "order": null,
            "overflow": null,
            "overflow_x": null,
            "overflow_y": null,
            "padding": null,
            "right": null,
            "top": null,
            "visibility": null,
            "width": null
          }
        },
        "c8f9a532dbb2484f9d85f15e06696617": {
          "model_module": "@jupyter-widgets/base",
          "model_name": "LayoutModel",
          "model_module_version": "1.2.0",
          "state": {
            "_model_module": "@jupyter-widgets/base",
            "_model_module_version": "1.2.0",
            "_model_name": "LayoutModel",
            "_view_count": null,
            "_view_module": "@jupyter-widgets/base",
            "_view_module_version": "1.2.0",
            "_view_name": "LayoutView",
            "align_content": null,
            "align_items": null,
            "align_self": null,
            "border": null,
            "bottom": null,
            "display": null,
            "flex": null,
            "flex_flow": null,
            "grid_area": null,
            "grid_auto_columns": null,
            "grid_auto_flow": null,
            "grid_auto_rows": null,
            "grid_column": null,
            "grid_gap": null,
            "grid_row": null,
            "grid_template_areas": null,
            "grid_template_columns": null,
            "grid_template_rows": null,
            "height": null,
            "justify_content": null,
            "justify_items": null,
            "left": null,
            "margin": null,
            "max_height": null,
            "max_width": null,
            "min_height": null,
            "min_width": null,
            "object_fit": null,
            "object_position": null,
            "order": null,
            "overflow": null,
            "overflow_x": null,
            "overflow_y": null,
            "padding": null,
            "right": null,
            "top": null,
            "visibility": null,
            "width": null
          }
        },
        "839dd4777a204f7eac6d32752cebe984": {
          "model_module": "@jupyter-widgets/controls",
          "model_name": "DescriptionStyleModel",
          "model_module_version": "1.5.0",
          "state": {
            "_model_module": "@jupyter-widgets/controls",
            "_model_module_version": "1.5.0",
            "_model_name": "DescriptionStyleModel",
            "_view_count": null,
            "_view_module": "@jupyter-widgets/base",
            "_view_module_version": "1.2.0",
            "_view_name": "StyleView",
            "description_width": ""
          }
        },
        "eb08ffbb31f34ed589a57e82685ec22a": {
          "model_module": "@jupyter-widgets/base",
          "model_name": "LayoutModel",
          "model_module_version": "1.2.0",
          "state": {
            "_model_module": "@jupyter-widgets/base",
            "_model_module_version": "1.2.0",
            "_model_name": "LayoutModel",
            "_view_count": null,
            "_view_module": "@jupyter-widgets/base",
            "_view_module_version": "1.2.0",
            "_view_name": "LayoutView",
            "align_content": null,
            "align_items": null,
            "align_self": null,
            "border": null,
            "bottom": null,
            "display": null,
            "flex": null,
            "flex_flow": null,
            "grid_area": null,
            "grid_auto_columns": null,
            "grid_auto_flow": null,
            "grid_auto_rows": null,
            "grid_column": null,
            "grid_gap": null,
            "grid_row": null,
            "grid_template_areas": null,
            "grid_template_columns": null,
            "grid_template_rows": null,
            "height": null,
            "justify_content": null,
            "justify_items": null,
            "left": null,
            "margin": null,
            "max_height": null,
            "max_width": null,
            "min_height": null,
            "min_width": null,
            "object_fit": null,
            "object_position": null,
            "order": null,
            "overflow": null,
            "overflow_x": null,
            "overflow_y": null,
            "padding": null,
            "right": null,
            "top": null,
            "visibility": null,
            "width": null
          }
        },
        "713bd431607f4e4ab313763b7e76386d": {
          "model_module": "@jupyter-widgets/controls",
          "model_name": "ProgressStyleModel",
          "model_module_version": "1.5.0",
          "state": {
            "_model_module": "@jupyter-widgets/controls",
            "_model_module_version": "1.5.0",
            "_model_name": "ProgressStyleModel",
            "_view_count": null,
            "_view_module": "@jupyter-widgets/base",
            "_view_module_version": "1.2.0",
            "_view_name": "StyleView",
            "bar_color": null,
            "description_width": ""
          }
        },
        "2064cf64a75445be8241495b6a97025a": {
          "model_module": "@jupyter-widgets/base",
          "model_name": "LayoutModel",
          "model_module_version": "1.2.0",
          "state": {
            "_model_module": "@jupyter-widgets/base",
            "_model_module_version": "1.2.0",
            "_model_name": "LayoutModel",
            "_view_count": null,
            "_view_module": "@jupyter-widgets/base",
            "_view_module_version": "1.2.0",
            "_view_name": "LayoutView",
            "align_content": null,
            "align_items": null,
            "align_self": null,
            "border": null,
            "bottom": null,
            "display": null,
            "flex": null,
            "flex_flow": null,
            "grid_area": null,
            "grid_auto_columns": null,
            "grid_auto_flow": null,
            "grid_auto_rows": null,
            "grid_column": null,
            "grid_gap": null,
            "grid_row": null,
            "grid_template_areas": null,
            "grid_template_columns": null,
            "grid_template_rows": null,
            "height": null,
            "justify_content": null,
            "justify_items": null,
            "left": null,
            "margin": null,
            "max_height": null,
            "max_width": null,
            "min_height": null,
            "min_width": null,
            "object_fit": null,
            "object_position": null,
            "order": null,
            "overflow": null,
            "overflow_x": null,
            "overflow_y": null,
            "padding": null,
            "right": null,
            "top": null,
            "visibility": null,
            "width": null
          }
        },
        "01544754beb541a3987dbdb942abfad6": {
          "model_module": "@jupyter-widgets/controls",
          "model_name": "DescriptionStyleModel",
          "model_module_version": "1.5.0",
          "state": {
            "_model_module": "@jupyter-widgets/controls",
            "_model_module_version": "1.5.0",
            "_model_name": "DescriptionStyleModel",
            "_view_count": null,
            "_view_module": "@jupyter-widgets/base",
            "_view_module_version": "1.2.0",
            "_view_name": "StyleView",
            "description_width": ""
          }
        }
      }
    }
  },
  "nbformat": 4,
  "nbformat_minor": 0
}